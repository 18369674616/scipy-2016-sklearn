{
 "cells": [
  {
   "cell_type": "code",
   "execution_count": null,
   "metadata": {},
   "outputs": [],
   "source": [
    "%load_ext watermark\n",
    "%watermark  -d -u -a 'Andreas Mueller, Kyle Kastner, Sebastian Raschka' -v -p numpy,scipy,matplotlib"
   ]
  },
  {
   "cell_type": "markdown",
   "metadata": {},
   "source": [
    "The use of watermark (above) is optional, and we use it to keep track of the changes while developing the tutorial material. (You can install this IPython extension via \"pip install watermark\". For more information, please see: https://github.com/rasbt/watermark)."
   ]
  },
  {
   "cell_type": "markdown",
   "metadata": {
    "colab_type": "text",
    "id": "7hcCguGd9EI-"
   },
   "source": [
    "# 1 Python机器学习入门"
   ]
  },
  {
   "cell_type": "markdown",
   "metadata": {
    "colab_type": "text",
    "id": "LkpLsKJm9EI-"
   },
   "source": [
    "## 什么是机器学习(Machine Leearning)?"
   ]
  },
  {
   "cell_type": "markdown",
   "metadata": {
    "colab_type": "text",
    "id": "2LWmvK_r9EI_"
   },
   "source": [
    "机器学习是从数据中自动提取**知识**的过程，通常目标是对新的、看不见的数据做出预测。一个典型的例子是垃圾邮件过滤器，用户不断地将收到的邮件标记为垃圾邮件或非垃圾邮件。然后，机器学习算法从区分垃圾邮件和普通邮件的数据中“学习”预测模型，该模型可以预测新邮件是否是垃圾邮件。   \n",
    "\n",
    "机器学习的核心理念：**无需用户指定明确的决策规则**从数据中**自动作出决策(decision making)**。\n",
    "\n",
    "对于电子邮件，用户不会提供构成垃圾邮件的单词或其他特征的列表，而是提供了垃圾邮件和非垃圾邮件的示例。\n",
    "\n",
    "另一个核心概念：**泛化(generalization)**。机器学习模型的目标，是对新的、以前没见过的数据作出预测。在现实应用中，我们对已经贴上垃圾邮件标签的电子邮件不感兴趣，而是希望通过对新收到的邮件进行自动分类，让生活变得更轻松。"
   ]
  },
  {
   "cell_type": "markdown",
   "metadata": {
    "colab_type": "text",
    "id": "Cqu6Vzo89EI_"
   },
   "source": [
    "<img src=\"https://github.com/amueller/scipy-2016-sklearn/blob/master/notebooks/figures/supervised_workflow.svg?raw=1\" width=\"100%\">"
   ]
  },
  {
   "cell_type": "markdown",
   "metadata": {
    "colab_type": "text",
    "id": "g6DhTQrK9EJA"
   },
   "source": [
    "数据通常以二维数组(或矩阵)的形式提供。要学习或做出决策的每个数据点(也称为*样本(sample)*或*训练实例(training instance)*)都表示为一个数值列表，即所谓的特征向量(feature vector)，其中包含的特征表示该点的属性。\n",
    " \n",
    "稍后，我们将用一个流行的数据集，叫做*鸢尾花(Iris)* ——也是众多数据集之一。鸢尾花是机器学习领域的经典基准(benchmark)数据集，包含来自3个不同物种的150朵鸢尾花的测量值：山鸢尾花(Iris-Setosa)、变色鸢尾花(Iris-Versicolor)和维吉尼亚鸢尾花(Iris-Virginica)。\n",
    "\n",
    "\n",
    "<img src=\"https://ss.csdn.net/p?https://mmbiz.qpic.cn/mmbiz_jpg/tRrxSF9IUIN33OpDRiajIM5VYYwE4HNKkrPD4yuMhuD8MKBNkAxzcAG5vL0F5jrmn14bC4aTuxAT18BIwJcx2Xg/640?wx_fmt=jpeg\" width=\"100%\">\n",
    "\n",
    "\n",
    "我们将每个花朵样本表示为数组(array)中的一行，而列(特征)则以厘米为单位表示花朵的尺寸。例如，我们可以用以下格式表示这个鸢尾花数据集，由150个样本和4个特征构成一个二维阵列或矩阵$\\mathbb{R}^{150 \\times 4}$，如下:\n",
    "\n",
    "\n",
    "$$\\mathbf{X} = \\begin{bmatrix}\n",
    "    x_{1}^{(1)} & x_{2}^{(1)} & x_{3}^{(1)} & \\dots  & x_{4}^{(1)} \\\\\n",
    "    x_{1}^{(2)} & x_{2}^{(2)} & x_{3}^{(2)} & \\dots  & x_{4}^{(2)} \\\\\n",
    "    \\vdots & \\vdots & \\vdots & \\ddots & \\vdots \\\\\n",
    "    x_{1}^{(150)} & x_{2}^{(150)} & x_{3}^{(150)} & \\dots  & x_{4}^{(150)}\n",
    "\\end{bmatrix}.\n",
    "$$\n",
    "\n",
    "(上标表示第*i*行，下标表示第*j*个特征)"
   ]
  },
  {
   "cell_type": "markdown",
   "metadata": {
    "colab_type": "text",
    "id": "YGKwGiW89EJA"
   },
   "source": [
    "我们将讨论机器学习的两种类型：***监督学习(supervised learning)***和***无监督学习(unsupervised learning)***。"
   ]
  },
  {
   "cell_type": "markdown",
   "metadata": {
    "colab_type": "text",
    "id": "zOwIX9BR9EJB"
   },
   "source": [
    "### 监督学习(Supervised Learning):分类(Classification)和回归(regression)\n",
    "\n",
    "在**监督学习**中，我们有一个由输入特征和期望输出组成的数据集，例如在垃圾/非垃圾邮件的例子里。任务是构建一个模型(或程序)，给定一组特征，能预测出没见过的目标期望的输出。\n",
    "\n",
    "更复杂的例子包括:\n",
    "\n",
    "- 给定望远镜观测到的目标的多色图像，确定(recognize)它是恒星、类星体还是星系。\n",
    "- 给定一个人的照片，识别(identify)照片中的人。\n",
    "- 给出一个人看过的电影列表和他们的个人评价，给他们推荐(recommend)可能会喜欢的电影列表。\n",
    "- 给定一个人的年龄、教育程度和职位，推断(infer)他们的工资。\n",
    "\n",
    "##### 注：我们常常用“预测”来描述模型的推断出期望结果的过程，这里指的未必是将来的事，也可能是现在甚至是过去，只要是推断见所未见之事，广义上都可以叫“预测”。\n",
    "\n",
    "这些任务又一个共同特点：有一个或多个与目标关联的未知量，需要根据其他已经观察到的量才能得到。\n",
    "\n",
    "进一步，监督学习可细分为两类：**分类(classification)**和**回归(regression)**:\n",
    "\n",
    "- **标签是离散的，叫做分类**，如“垃圾邮件”和“非垃圾邮件”。换句话说，它提供了类别之间的明确区分。此外，还需要注意，类标签是标称(Nominal)的，而不是顺序(ordinal)变量。标称变量和顺序变量都是分类变量的子类。顺序变量意味着是有序的，例如，T恤尺寸“XL > L > M > S”。而标称变量不表示有序，例如，我们(通常)不能假设“橙色>蓝色>绿色”。\n",
    "\n",
    "\n",
    "- **标签是连续的，叫做回归**，可能是个浮点输出。例如，在天文学中，确定一个目标是恒星、星系还是类星体的任务是分类问题：标签来自三个不同的类别。另一方面，我们可能希望基于这样的观察来估计目标的年龄：这就是个回归问题，因为标签(年龄)是连续量。\n",
    "\n",
    "在监督学习中，给出期望结果的**训练集(training set)**和需要推断期望结果的**测试集(test set)**总是不同的。学习模型将预测模型与训练集相匹配，用测试集来评价其泛化性能。\n"
   ]
  },
  {
   "cell_type": "markdown",
   "metadata": {
    "colab_type": "text",
    "id": "87gkmWyP9EJC"
   },
   "source": [
    "### 无监督学习(Unsupervised Learning)\n",
    "\n",
    "在**无监督学习**中，没有与数据相关的期望输出，我们感兴趣的是从给定数据中提取某种形式的知识或模型。某种意义上，可以把无监督学习视为从数据本身发现标签的一种手段。无监督学习通常更难理解和评价。\n",
    "\n",
    "无监督学习包括像*降维(dimensionality reduction)* ，*聚类(clustering)* ，和*密度估计(density estimation)*等这样一些任务。例如上面讨论的虹膜数据，可以用无监督方法，确定哪些测量组合，能最有效地显示数据的结构。正如我们在下面将会看到的，这样的数据投影可以用来将四维数据可视化为二维图像。一些更复杂的无监督学习问题包括:\n",
    "\n",
    "- 给出对遥远星系的详细观测，确定哪些特征或特征组合能最好地总结信息。\n",
    "- 假设有两个音源的混合(例如，一个人音乐背景下讲话),将两者分开(这就是所谓的[盲源分离\\(blind source separation\\)]( http://en.wikipedia.org/wiki/blind_signal_separation )问题)。\n",
    "- 给定一个视频，分离出其中的运动目标，并根据已经看到的其他运动目标进行分类。\n",
    "- 收集大量新闻文章，在其中找到重复出现的主题。\n",
    "- 给定一个图像集合，将相似的图像聚合在一起(例如在可视化一个集合时将它们分组)\n",
    "\n",
    "有时两者甚至可以结合使用: 例如，无监督学习可以用来寻找有用的信息，然后在监督框架下使用这些特征。"
   ]
  },
  {
   "cell_type": "code",
   "execution_count": null,
   "metadata": {},
   "outputs": [],
   "source": []
  }
 ],
 "metadata": {
  "anaconda-cloud": {},
  "colab": {
   "name": "01 Introduction to Machine Learning.ipynb",
   "provenance": []
  },
  "kernelspec": {
   "display_name": "Python 3",
   "language": "python",
   "name": "python3"
  },
  "language_info": {
   "codemirror_mode": {
    "name": "ipython",
    "version": 3
   },
   "file_extension": ".py",
   "mimetype": "text/x-python",
   "name": "python",
   "nbconvert_exporter": "python",
   "pygments_lexer": "ipython3",
   "version": "3.7.4"
  }
 },
 "nbformat": 4,
 "nbformat_minor": 4
}
